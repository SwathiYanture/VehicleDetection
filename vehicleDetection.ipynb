{
 "cells": [
  {
   "cell_type": "code",
   "execution_count": null,
   "metadata": {},
   "outputs": [],
   "source": [
    "import cv2\n",
    "import glob\n",
    "import numpy as np\n",
    "from sklearn.model_selection import train_test_split"
   ]
  },
  {
   "cell_type": "code",
   "execution_count": null,
   "metadata": {},
   "outputs": [],
   "source": [
    "vehicles = glob.glob(\"./Vehicles/*.png\")"
   ]
  },
  {
   "cell_type": "code",
   "execution_count": null,
   "metadata": {},
   "outputs": [],
   "source": [
    "non_vehicles = glob.glob(\"./Non_Vehicles/*.png\")"
   ]
  },
  {
   "cell_type": "code",
   "execution_count": null,
   "metadata": {},
   "outputs": [],
   "source": [
    "Y = np.concatenate([np.array([[1,0]]*len(vehicles)), \n",
    "                    np.array([[0,1]]*len(non_vehicles))])"
   ]
  },
  {
   "cell_type": "code",
   "execution_count": null,
   "metadata": {},
   "outputs": [],
   "source": [
    "x = []\n",
    "for name in vehicles:    \n",
    "    x.append(cv2.cvtColor(cv2.imread(name), cv2.COLOR_BGR2RGB))\n",
    "for name in non_vehicles:    \n",
    "    x.append(cv2.cvtColor(cv2.imread(name), cv2.COLOR_BGR2RGB))\n"
   ]
  },
  {
   "cell_type": "code",
   "execution_count": null,
   "metadata": {},
   "outputs": [],
   "source": [
    "\n",
    "print(x_train.shape)\n",
    "print(x_train.shape[0])\n",
    "print(x_test.shape[0])\n",
    "input_shape =  (3,64,64)"
   ]
  },
  {
   "cell_type": "code",
   "execution_count": null,
   "metadata": {},
   "outputs": [],
   "source": [
    "import tensorflow as tf"
   ]
  },
  {
   "cell_type": "code",
   "execution_count": null,
   "metadata": {},
   "outputs": [],
   "source": [
    "with tf.Session() as sess:\n",
    "    tf_data = tf.placeholder(tf.float32, shape=(None, None, None, 3), name=\"image_input\")\n",
    "    tf_labels = tf.placeholder(tf.float32, shape=(None),name=\"labels_input\")\n",
    "    tf_train = tf.placeholder(tf.bool,name=\"train_input\")\n",
    "    batches = (int(np.ceil(x_train.shape[0]/64.)))\n",
    "    norm = tf_data/127.5 - 1\n",
    "    c1 = tf.layers.conv2d(norm, 16, 3, strides=(1, 1), padding='SAME',\n",
    "                            kernel_initializer=tf.truncated_normal_initializer(stddev=0.001), activation=tf.nn.relu)\n",
    "    c2 = tf.layers.conv2d(c1, 16, 3, strides=(1, 1), padding='SAME',\n",
    "                            kernel_initializer=tf.truncated_normal_initializer(stddev=0.001), activation=tf.nn.relu)\n",
    "    p = tf.layers.max_pooling2d(c2, 8, strides=(8,8), padding='SAME')\n",
    "    \n",
    "    drop1 = tf.layers.dropout(p,rate=0.25,training=tf_train)\n",
    "    \n",
    "    c3 = tf.layers.conv2d(drop1, 128, 8, strides=(1, 1), padding='VALID',\n",
    "        kernel_initializer=tf.truncated_normal_initializer(stddev=0.001), activation=tf.nn.relu)\n",
    "    \n",
    "    drop2 = tf.layers.dropout(c3,rate=0.50,training=tf_train)\n",
    "    c4 = tf.layers.conv2d(drop2, 2, 1, strides=(1, 1), padding='VALID',\n",
    "        kernel_initializer=tf.truncated_normal_initializer(stddev=0.001))\n",
    "    sm = tf.nn.softmax(c4, name=\"output\")\n",
    "    \n",
    "    logits = tf.reshape(c4,(-1,2),name='logits')\n",
    "    labels = tf.reshape(sm,(-1,2),name='lables')\n",
    "    loss = tf.reduce_mean(tf.nn.softmax_cross_entropy_with_logits(logits=logits, labels=labels))\n",
    "    train_op = tf.train.AdamOptimizer(0.001).minimize(loss)\n",
    "    \n",
    "    correct_prediction = tf.equal(tf.argmax(logits,1), tf.argmax(labels,1))\n",
    "    tf_accuracy = tf.reduce_mean(tf.cast(correct_prediction, \"float\"))\n",
    "    \n",
    "    for epoch in range(20):\n",
    "        for batch in range(batches):\n",
    "            train_loss, _, accuracy = sess.run([loss, train_op, tf_accuracy],\n",
    "                        feed_dict={tf_data: x_train[batch*64:batch*64+64], \n",
    "                                   tf_labels: Y_train[batch*64:batch*64+64], \n",
    "                                   tf_train: True})\n",
    "        print( accuracy)\n",
    "        \n",
    "        train_loss, accuracy = sess.run([l, tf_accuracy],feed_dict={tf_data: x_test, tf_labels: Y_test, \n",
    "                                   tf_train: False})\n",
    "        print( accuracy)\n",
    "        "
   ]
  },
  {
   "cell_type": "code",
   "execution_count": null,
   "metadata": {},
   "outputs": [],
   "source": []
  }
 ],
 "metadata": {
  "kernelspec": {
   "display_name": "Python 3",
   "language": "python",
   "name": "python3"
  },
  "language_info": {
   "codemirror_mode": {
    "name": "ipython",
    "version": 3
   },
   "file_extension": ".py",
   "mimetype": "text/x-python",
   "name": "python",
   "nbconvert_exporter": "python",
   "pygments_lexer": "ipython3",
   "version": "3.6.4"
  }
 },
 "nbformat": 4,
 "nbformat_minor": 2
}
